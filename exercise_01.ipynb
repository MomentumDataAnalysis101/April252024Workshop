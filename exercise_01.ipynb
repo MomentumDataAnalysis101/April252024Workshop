{
 "cells": [
  {
   "cell_type": "markdown",
   "metadata": {},
   "source": [
    "# Example to gather basic statistics on world population"
   ]
  },
  {
   "cell_type": "markdown",
   "metadata": {},
   "source": [
    "Preparation to run this analysis\n",
    "* Upload data to Google Drive\n",
    "* Download this notebook from Github classroom to your computer and upload it to Colab\n",
    "* Select a compute resource\n",
    "YOU ARE NOW ALL SET TO RUN THE ANALYSIS!\n",
    "\n"
   ]
  },
  {
   "cell_type": "markdown",
   "metadata": {},
   "source": [
    "#### Define problem statement"
   ]
  },
  {
   "cell_type": "markdown",
   "metadata": {},
   "source": [
    "**Problem statement**\n",
    "\n",
    "I am a United Nations policy maker that wants basic statistics about the world population in the latest data we have available. This information will help me with recommendations for resource allocation. \n",
    "\n",
    "Notes:\n",
    "When the objectives of the task are clear, the analyst can do an efficient job of extracting the relevant data. \n",
    "\n",
    "\n"
   ]
  },
  {
   "cell_type": "markdown",
   "metadata": {},
   "source": [
    "**Disclaimer:**\n",
    "\n",
    "In this workshop, the analysis that we provide below is not exhaustive. Please use this as a guide to learn the concepts of data analysis that were taught in the course (problem statement, data collection, cleaning and analysis). Here we have used data from the latest available date. In a real scenario, the analyst would want to look at more recent data and/or apply various other math/statistical methods to help answer their question. "
   ]
  },
  {
   "cell_type": "markdown",
   "metadata": {},
   "source": [
    "Let us assume that the year is 2021"
   ]
  },
  {
   "cell_type": "markdown",
   "metadata": {},
   "source": [
    "*Instructions*\n",
    "* We will be using Python to run the code\n",
    "* **We want to focus on the concepts of analyzing data**\n",
    "    * If you have prior experience in Python, please feel free to try additional questions - as we walk through the course\n",
    "    * If you are new to Python, you will not be asked to write Python code. The code is provided. A novice usually finds it difficult to analyze the data as well as follow the code. We re-iterate that you focus on the concepts (and the outcome of the analysis) rather than the code. At your liesure, we encourage you to implement the analysis in your tool of choice (such as Excel or other.)\n",
    "* For those interested to pursue a career path in data analysis, the code we present below is higher than an introductory level Python course. We present popular tools and code patterns in the hope that they will help you accelerate your learning journey."
   ]
  },
  {
   "cell_type": "markdown",
   "metadata": {},
   "source": [
    "*About this course*\n",
    "* The purpose of this data analysis is to understand basic trends in World Population. We want to explore the data that will help answer the questions - What, Where or When. In this course, we will focus on introductory data analysis.\n",
    "* Advanced data analysis (not covered here) would ask questions on the \"Why\" and also help come up with forecast for the future. \n",
    "* Any data analysis always starts with the basic questions. "
   ]
  },
  {
   "cell_type": "markdown",
   "metadata": {},
   "source": [
    "Data sources:\n",
    "United Nations, World Population Prospects (2022)\n"
   ]
  },
  {
   "cell_type": "markdown",
   "metadata": {},
   "source": [
    "import packages"
   ]
  },
  {
   "cell_type": "code",
   "execution_count": 3,
   "metadata": {},
   "outputs": [],
   "source": [
    "import pandas as pd\n",
    "import plotly.express as px \n",
    "import plotly.offline as py\n",
    "import plotly.graph_objects as go\n",
    "import numpy as np\n"
   ]
  },
  {
   "cell_type": "markdown",
   "metadata": {},
   "source": [
    "#### Select data"
   ]
  },
  {
   "cell_type": "code",
   "execution_count": 4,
   "metadata": {},
   "outputs": [],
   "source": [
    "# Import data into Colab by clicking on the \"Files\" icon and then clicking the \"Upload\" button. Select the CSV from your computer.\n",
    "\n",
    "\n",
    "# pd.read_csv(\"/content/drive/MyDrive/population-and-demography.csv\")"
   ]
  },
  {
   "cell_type": "code",
   "execution_count": null,
   "metadata": {},
   "outputs": [],
   "source": [
    "# population data contains population for countries,  several groups of countries and the world\n",
    "pg_data = pd.read_csv(\"/mnt/c/Users/pamaz/Downloads/population-and-demography.csv\")\n",
    "pg_data.head()"
   ]
  },
  {
   "cell_type": "markdown",
   "metadata": {},
   "source": [
    "*In the real world, the raw data are ingested into the raw layer or the \"Bronze layer\"*"
   ]
  },
  {
   "cell_type": "markdown",
   "metadata": {},
   "source": [
    "#### Clean data"
   ]
  },
  {
   "cell_type": "markdown",
   "metadata": {},
   "source": [
    "##### Transform the datasets to meet our needs\n",
    "* Normally, the data are merged with other data or are grouped to meet the analysis needs. Here in the first exercise, we will work on one data. \n",
    "* The population data that we need is present in the ingested data. Further, we will be analyzing data by country. "
   ]
  },
  {
   "cell_type": "markdown",
   "metadata": {},
   "source": [
    "##### Clean data and understand a summary of the data\n",
    "*   Remove null values \n",
    "*   Show a summary of the data\n",
    " "
   ]
  },
  {
   "cell_type": "code",
   "execution_count": null,
   "metadata": {},
   "outputs": [],
   "source": [
    "# The number of rows before removing null values\n",
    "print(f\"Number of rows is {pg_data.shape[0]}\")"
   ]
  },
  {
   "cell_type": "code",
   "execution_count": null,
   "metadata": {},
   "outputs": [],
   "source": [
    "pg_data = pg_data.dropna()\n",
    "# The number of rows after removing null values\n",
    "print(f\"Number of rows is {pg_data.shape[0]}\")\n",
    "pg_data.head()"
   ]
  },
  {
   "cell_type": "markdown",
   "metadata": {},
   "source": [
    "Looks like no null values were present"
   ]
  },
  {
   "cell_type": "markdown",
   "metadata": {},
   "source": [
    "*Tell me about this data*"
   ]
  },
  {
   "cell_type": "code",
   "execution_count": null,
   "metadata": {},
   "outputs": [],
   "source": [
    "pg_data.describe()"
   ]
  },
  {
   "cell_type": "markdown",
   "metadata": {},
   "source": [
    "Notes on the data:\n",
    "* Maximum population is about 7.9 billion. **This seems odd**\n",
    "* Data is for each country and given by year.\n",
    "* Total population and population by age groups are provided\n",
    "\n",
    "Question:\n",
    "* What are the minimum, maximum and mean population in 2021?\n",
    "\n",
    "\n"
   ]
  },
  {
   "cell_type": "markdown",
   "metadata": {},
   "source": [
    "*In the real world, the transformed (and cleaned) data are stored into the intermediate layer or the \"Silver layer\". This data is now ready for analytics use.*\n",
    "*   Additional data cleaning, formatting are done to ensure the data types of each column are making sense. \n",
    "    * This can include checks if country names are consistent.\n",
    "    * Also, include data aggregation.e.g., represent minute data as hourly. For this data, we do not need to do aggregation."
   ]
  },
  {
   "cell_type": "markdown",
   "metadata": {},
   "source": [
    "##### Perform additional checks to make sure the data looks alright and do additional cleaning if necessary"
   ]
  },
  {
   "cell_type": "markdown",
   "metadata": {},
   "source": [
    "*   *Show countries that have greater than China's 2021 population*"
   ]
  },
  {
   "cell_type": "markdown",
   "metadata": {},
   "source": [
    "Please note the coding pattern\n",
    "* We will define a condition that we need (see variable `condition`)\n",
    "* Then we apply that condition on the dataframe"
   ]
  },
  {
   "cell_type": "code",
   "execution_count": null,
   "metadata": {},
   "outputs": [],
   "source": [
    "condition = pg_data[\"Population\"]>1425893500 \n",
    "pg_data[condition].head() # find me data whose population is more than china"
   ]
  },
  {
   "cell_type": "code",
   "execution_count": null,
   "metadata": {},
   "outputs": [],
   "source": [
    "# Some values do not correspond to country. Let us remove these entries from the data.\n",
    "\n",
    "# get all values for country names whose population is more than 1.47 billion\n",
    "condition = pg_data[\"Population\"]>1425893500\n",
    "remove_words = list(pg_data[condition][\"Country name\"].unique())\n",
    "remove_words"
   ]
  },
  {
   "cell_type": "markdown",
   "metadata": {},
   "source": [
    "*   *Remove \"World\" and other non-country entities from the Country name column*\n",
    "    * Count number of countries"
   ]
  },
  {
   "cell_type": "code",
   "execution_count": 11,
   "metadata": {},
   "outputs": [],
   "source": [
    "# We can generalize the above words to maximize cleaning\n",
    "remove_words = [ 'regions',\n",
    " 'countries',\n",
    " 'World','UN']"
   ]
  },
  {
   "cell_type": "code",
   "execution_count": null,
   "metadata": {},
   "outputs": [],
   "source": [
    "# remove regions\n",
    "pg_data_nona_clean = pg_data.copy()\n",
    "def remove_non_countries(remove_words,pg_data_nona_clean):\n",
    "    for word in remove_words:\n",
    "\n",
    "        mask = ~(pg_data_nona_clean[\"Country name\"].str.contains(word)) # condition to check if word does not exist\n",
    "        pg_data_nona_clean = pg_data_nona_clean\\\n",
    "            [mask] # select rows for which condition is met\n",
    "     \n",
    "        # num of unique countries in the data\n",
    "        num_of_countries = len(pg_data_nona_clean[\"Country name\"].unique())\n",
    "        print(\"Number of countries in the data \\\n",
    "            are {}\".format(num_of_countries )\n",
    "        )\n",
    "        print(word)\n",
    "    return pg_data_nona_clean\n",
    "pg_data_nona_clean = remove_non_countries(remove_words,pg_data_nona_clean)\n"
   ]
  },
  {
   "cell_type": "markdown",
   "metadata": {},
   "source": [
    "Still, there are way too many countries. Let us see if non-countries exist in the lower population."
   ]
  },
  {
   "cell_type": "markdown",
   "metadata": {},
   "source": [
    "#### Analyze data "
   ]
  },
  {
   "cell_type": "markdown",
   "metadata": {},
   "source": [
    "* During analysis also, data cleaning may be required.\n",
    "* As we discover patterns, we may need to perform additional cleaning."
   ]
  },
  {
   "cell_type": "code",
   "execution_count": null,
   "metadata": {},
   "outputs": [],
   "source": [
    "# countries with population below 100,000 in 2021\n",
    "condition1 = (pg_data_nona_clean[\"Population\"]<=100000)\n",
    "condition2 = (pg_data_nona_clean[\"Year\"]==2021)\n",
    "pg_data_nona_clean[condition1 & condition2][\"Country name\"].unique()"
   ]
  },
  {
   "cell_type": "markdown",
   "metadata": {},
   "source": [
    "It looks like islands are included in the data as countries. "
   ]
  },
  {
   "cell_type": "markdown",
   "metadata": {},
   "source": [
    "*Let us find out entities with minimum population and confirm if they are countries"
   ]
  },
  {
   "cell_type": "code",
   "execution_count": null,
   "metadata": {},
   "outputs": [],
   "source": [
    "condition = pg_data_nona_clean[\"Year\"]==2021\n",
    "df = pg_data_nona_clean[condition].sort_values(\"Population\").head(15)\n",
    "df\n"
   ]
  },
  {
   "cell_type": "markdown",
   "metadata": {},
   "source": [
    "Tokelau is a territory and Niue is considered a country (As per Australian Government sources). Even though we seem to have some entities may or may not be recognized as countries, we can calculate basic statistics such as mean, minimum, maximum population. We will use the 237 entities to calculate the basic statistics. \n"
   ]
  },
  {
   "cell_type": "code",
   "execution_count": null,
   "metadata": {},
   "outputs": [],
   "source": [
    "# Statistics on population\n",
    "# mean, minimum, maximum in the year 2021\n",
    "condition = pg_data_nona_clean[\"Year\"]==2021\n",
    "df = pg_data_nona_clean[condition]\n",
    "\n",
    "# what is the minimum population?\n",
    "condition = (df[\"Population\"]==df[\"Population\"].min())\n",
    "min_country,min_population = df[condition][[\"Country name\",\"Population\"]].values[0]\n",
    "\n",
    "# what is the maximum population?\n",
    "condition = (df[\"Population\"]==df[\"Population\"].max())\n",
    "max_country,max_population = df[condition][[\"Country name\",\"Population\"]].values[0]\n",
    "\n",
    "mean_population = df[\"Population\"].mean()\n",
    "\n",
    "total_population = df[\"Population\"].sum()\n",
    "\n",
    "print(f\"The minimum world population is {min_population} for {min_country}\")\n",
    "print(f\"The maximum world population is {max_population} for country {max_country}\")\n",
    "print(f\"The mean world population is {mean_population}.\")\n",
    "print(f\"The total world population is {total_population}.\")\n",
    "\n"
   ]
  },
  {
   "cell_type": "markdown",
   "metadata": {},
   "source": [
    "##### Interpret results"
   ]
  },
  {
   "cell_type": "markdown",
   "metadata": {},
   "source": [
    "* Of the 237 countries analyzed, in 2021, Tokelau had the lowest world population of 1869\n",
    "* In the same year, China had the highest world population of about 1.4 billion people\n",
    "    * The world population ranged from 1800 to 1.4 billion people. \n",
    "* About 42 of the 237 countries may not be independent. These countries were also included in the analysis. ## Exercise: is it 42 countries that are not independent?\n",
    "* The average world population in 2021 is about 33 million people.\n",
    "* The total world population in 2021 is about 7.9 billion people.\n"
   ]
  },
  {
   "cell_type": "markdown",
   "metadata": {},
   "source": [
    "##### Report\n",
    "* The problem statement\n",
    "    * A UN policy maker wants to obtain the basic statistics about the world population. \n",
    "* Discuss the data selected and its source\n",
    "    * Population data was used from the source United Nations, World Population Prospects (2022).\n",
    "    * The data lists countries, regions (or group of countries) and their population. \n",
    "    * The data also contains population across various age groups. \n",
    "    * The data contained information for various years ranging from about 1950 till 2021. \n",
    "* Discuss the steps used to clean the data and why\n",
    "    * In this analysis, the total population across all age groups was considered. \n",
    "    * The data for regions was removed from the analysis. \n",
    "        * We only keep the data for various countries.\n",
    "        * This resulted in 237 countries.\n",
    "        * The regions we removed contain key words 'regions', 'countries', 'World' and 'UN'. \n",
    "            * Including region data would cause the world population to be inaccurate.\n",
    "    * A step to remove null values in the data was applied. This step did not result in any data loss. No null values were found in the data. \n",
    "    * Population data discussed above was used in the analysis.  \n",
    "* Discussion the analysis steps\n",
    "    * What patterns were discovered?\n",
    "        * Data for the year 2021 was analyzed. \n",
    "        * The data consisted of countries that were islands. \n",
    "            * The data pertaining to islands had the lowest population.\n",
    "    * The lowest, highest, average and total population were calculated. \n",
    "    * Interpretation of the results\n",
    "        * Of the 237 countries analyzed, in 2021, Tokelau had the lowest world population of 1869\n",
    "        * In the same year, China had the highest world population of about 1.4 billion people\n",
    "            * The world population ranged from 1800 to 1.4 billion people. \n",
    "        * About 42 of the 237 countries may not be independent. These countries were also included in the analysis. \n",
    "        * The average world population in 2021 is about 33 million people.\n",
    "        * The total world population in 2021 is about 7.9 billion people.\n",
    "        * <*Any relevant figures are added to the report and explained.>\n",
    "\n",
    "* Analyst will have a meeting with the requestor and discuss their findings. The final data and the report are provided to the requestor. "
   ]
  },
  {
   "cell_type": "markdown",
   "metadata": {},
   "source": [
    "Question:\n",
    "Do you think the minimum and mean value skew affects the decision of the policy maker?"
   ]
  },
  {
   "cell_type": "markdown",
   "metadata": {},
   "source": [
    "*In the real world, the data fit for analysis is stored in the Gold layer*\n",
    "\n",
    "\n",
    "In this case, the data contained in the variable `df` in the above cell is stored."
   ]
  },
  {
   "cell_type": "markdown",
   "metadata": {},
   "source": [
    "*Further, in the real world, the analyzed data are typically sent to a dashboard for consumption. The results are shown and discussed with the person that initiated the request.*\n",
    "\n"
   ]
  },
  {
   "cell_type": "markdown",
   "metadata": {},
   "source": [
    "#### Summary"
   ]
  },
  {
   "cell_type": "markdown",
   "metadata": {},
   "source": [
    "*Analytics Workflow*\n",
    "* We saw how to ingest raw data, transform (ET of the ETL). \n",
    "* We then further cleaned the data and explored it to help answer the questions. \n",
    "* We discovered the minimum, maximum, total and mean population of countries in 2021. \n",
    "\n"
   ]
  }
 ],
 "metadata": {
  "kernelspec": {
   "display_name": ".venv",
   "language": "python",
   "name": "python3"
  },
  "language_info": {
   "codemirror_mode": {
    "name": "ipython",
    "version": 3
   },
   "file_extension": ".py",
   "mimetype": "text/x-python",
   "name": "python",
   "nbconvert_exporter": "python",
   "pygments_lexer": "ipython3",
   "version": "3.10.8"
  }
 },
 "nbformat": 4,
 "nbformat_minor": 2
}
