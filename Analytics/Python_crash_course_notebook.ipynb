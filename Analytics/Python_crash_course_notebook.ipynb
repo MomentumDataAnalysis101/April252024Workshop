{
  "cells": [
    {
      "cell_type": "markdown",
      "metadata": {
        "id": "cLpzD2Po9Y1W"
      },
      "source": [
        "Here are some definitions of the terminology we will use in the workshop.\n",
        "* Jupyter notebook or simply notebook\n",
        "* Python language\n",
        "    * Common commands\n",
        "* Packages\n"
      ]
    },
    {
      "cell_type": "markdown",
      "metadata": {
        "id": "R85SdVCp9Y1X"
      },
      "source": [
        "Jupyter Notebook"
      ]
    },
    {
      "cell_type": "markdown",
      "metadata": {
        "id": "jVPJx4U99Y1X"
      },
      "source": [
        "* Notebooks are used to run Python commands\n",
        "* Their interactive feature is found useful by programmers\n",
        "* One of the most common tools used by Python programmers\n"
      ]
    },
    {
      "cell_type": "markdown",
      "metadata": {
        "id": "FwpaCJsC9Y1X"
      },
      "source": [
        "Python Language"
      ]
    },
    {
      "cell_type": "markdown",
      "metadata": {
        "id": "cJPUOGIB9Y1X"
      },
      "source": [
        "* The language belongs to a class of programming languages called interpretive languages\n",
        "* The code is not compiled\n",
        "* code is written and executed directly\n",
        "* Python is still the top programming language of choice used by developers\n",
        "* Python is also used to build websites and software applications.\n",
        "\n",
        "* Example:\n",
        "```\n",
        "# code assigns value 5 to a variable `x`\n",
        "x=5\n",
        "# print the value of the variable `x`\n",
        "print(x)\n",
        "```\n",
        "gives the result\n",
        "```\n",
        "5\n",
        "```\n"
      ]
    },
    {
      "cell_type": "markdown",
      "metadata": {
        "id": "dnf-jwhW9Y1X"
      },
      "source": [
        "Python Packages"
      ]
    },
    {
      "cell_type": "markdown",
      "metadata": {
        "vscode": {
          "languageId": "plaintext"
        },
        "id": "sLEcNquf9Y1Y"
      },
      "source": [
        "* Python is an extensive language with many functionality built-in to it.\n",
        "* Some features are in packages\n",
        "* Examples are special dataframe features\n",
        "\n",
        "```\n",
        "import pandas as pd\n",
        "```\n",
        "* The above command imports dataframe manipulation package called pandas\n",
        "\n"
      ]
    },
    {
      "cell_type": "markdown",
      "metadata": {
        "id": "gV8UuDVo9Y1Y"
      },
      "source": [
        "Python packages that we will use in this course are:\n",
        "* pandas: A dataframe manipulation package\n",
        "* plotly: Interactive plotting package\n",
        "* numpy: Numeric manipulation package\n"
      ]
    },
    {
      "cell_type": "markdown",
      "metadata": {
        "id": "YHBtiyYQ9Y1Y"
      },
      "source": [
        "*Python under the hood*"
      ]
    },
    {
      "cell_type": "markdown",
      "metadata": {
        "id": "K1N-saXR9Y1Y"
      },
      "source": [
        "* Variables\n",
        "* Data types\n",
        "* Loops\n",
        "* Conditional statements\n",
        "* Tables and common operations on them\n",
        "    * Merge, sort, group\n",
        "* Functions"
      ]
    },
    {
      "cell_type": "markdown",
      "metadata": {
        "id": "IBIXzfeM9Y1Y"
      },
      "source": [
        "**Variables**\n",
        "\n",
        "Used to store data in RAM\n",
        "* Can store a single value, series of values, tables, objects etc.\n",
        "* A variable is created when a value is assigned to it.\n",
        "* Using meaningful names makes the code more easy to understand.\n",
        "\n"
      ]
    },
    {
      "cell_type": "code",
      "execution_count": null,
      "metadata": {
        "id": "ZEwgbzl79Y1Y",
        "outputId": "daac2fab-fb03-4d67-b55b-0acc6e9cfef3"
      },
      "outputs": [
        {
          "name": "stdout",
          "output_type": "stream",
          "text": [
            "20\n",
            "It is data analytics class\n"
          ]
        }
      ],
      "source": [
        "### Example variables\n",
        "# set variable x to 20 and print its value\n",
        "x = 20\n",
        "print(x)\n",
        "\n",
        "# set variable x to string \"It is data analytics class\" and print its value\n",
        "x = 'It is data analytics class'\n",
        "print(x)\n",
        "\n"
      ]
    },
    {
      "cell_type": "markdown",
      "metadata": {
        "id": "jjMDT-D79Y1Z"
      },
      "source": [
        "**Datatypes**\n",
        "\n",
        "* Data types indicate whether a data is a string, float, integer or object\n",
        "* Data types are inferred by the Python interpreter"
      ]
    },
    {
      "cell_type": "code",
      "execution_count": null,
      "metadata": {
        "id": "4UdW6Cid9Y1Z",
        "outputId": "307fa46e-f2b2-4072-a440-5d70f86b11e9"
      },
      "outputs": [
        {
          "name": "stdout",
          "output_type": "stream",
          "text": [
            "<class 'int'>\n",
            "<class 'str'>\n",
            "<class 'list'>\n",
            "<class 'numpy.ndarray'>\n"
          ]
        }
      ],
      "source": [
        "# Example data\n",
        "# Set variable x to 30 and print its data type\n",
        "x = 30\n",
        "print(type(x)) # the variable is of type integer\n",
        "\n",
        "# Set variable `textvar` to \"It is data analysis class and prints its data type\n",
        "textvar = \"It is data analysis class\"\n",
        "print(type(textvar)) # the variable is of type string\n",
        "\n",
        "# Set variable `mylist` to [0,20,30,50] and print its data type\n",
        "mylist = [0,20,30,50]\n",
        "print(type(mylist)) # the variable is of type list\n",
        "\n",
        "# Set variable `arr` to [0,20,30,50] and print its data type\n",
        "import numpy as np\n",
        "arr = np.array(mylist) # the variable is of type arrays\n",
        "print(type(arr))\n"
      ]
    },
    {
      "cell_type": "markdown",
      "metadata": {
        "id": "PspALd659Y1Z"
      },
      "source": [
        "The data types printed above are integer, string, list and array, respectively.\n",
        "\n",
        "**NOTE: DO NOT NAME YOUR VARIABLES WITH THE DATATYPE SUCH AS list, int, str etc.**"
      ]
    },
    {
      "cell_type": "markdown",
      "metadata": {
        "id": "aKp9HVqQ9Y1Z"
      },
      "source": [
        "**Loops**\n",
        "* Loops are used to automate repeated tasks over a series of values\n",
        "* Example series are arrays, lists and rows of tables\n"
      ]
    },
    {
      "cell_type": "code",
      "execution_count": null,
      "metadata": {
        "id": "S7lqK_R49Y1Z",
        "outputId": "ee579f8a-dd9d-40f3-ae9c-88ef9280e99a"
      },
      "outputs": [
        {
          "name": "stdout",
          "output_type": "stream",
          "text": [
            "0\n",
            "20\n",
            "30\n",
            "50\n"
          ]
        }
      ],
      "source": [
        "# Loop or iterate over a list and prints the values\n",
        "mylist = [0,20,30,50] # define the list\n",
        "for val in mylist: # loop over it\n",
        "    print(val)\n",
        "\n",
        "# This is also called a for loop because it uses the command `for`\n",
        "# Exercise: Try to loop over an array."
      ]
    },
    {
      "cell_type": "markdown",
      "metadata": {
        "id": "XeGTn4f_9Y1a"
      },
      "source": [
        "**Conditional Statements**\n",
        "\n",
        "* These statements are found to select a subset of data that meet a particular condition\n",
        "* Example, select all data that belongs to 2024\n",
        "* Consists of the command to indicate it is a condition and then the condition\n",
        "* Conditional commands are `if`, `else`, `elif`\n",
        "* Conditions are `>`, `<`, `==` etc."
      ]
    },
    {
      "cell_type": "code",
      "execution_count": null,
      "metadata": {
        "id": "fNzYS6iJ9Y1a",
        "outputId": "18a24c6d-a3b9-4315-edd8-d5b12a77d986"
      },
      "outputs": [
        {
          "data": {
            "text/plain": [
              "[0, 20]"
            ]
          },
          "execution_count": 11,
          "metadata": {},
          "output_type": "execute_result"
        }
      ],
      "source": [
        "# From the list, mylist = [0,20,30,50], select values that are less than 30 and write them to a new list\n",
        "filtered_list = [] # create an empty list\n",
        "for val in mylist: # loop through the list\n",
        "    if val < 30: # select values less than 30\n",
        "        filtered_list.append(val) # append values to the list if condition is met\n",
        "filtered_list # show the values"
      ]
    },
    {
      "cell_type": "markdown",
      "metadata": {
        "id": "-YNqzL7W9Y1a"
      },
      "source": [
        "**Tables and the common operations on them**\n",
        "\n",
        "* Pandas is a table manipulation package\n",
        "* Pandas dataframe anatomy:\n",
        "    * Dataframe: refers to the table object\n",
        "    * Row: each row of the table\n",
        "    * Column: each column in the table\n",
        "    * Datatype: each column has a data type\n",
        "        * Data type is implied and can be changed\n",
        "        "
      ]
    },
    {
      "cell_type": "code",
      "execution_count": null,
      "metadata": {
        "id": "ftBi6BKM9Y1a",
        "outputId": "e2ac6c70-6cbe-4b64-a119-1956110fa62f"
      },
      "outputs": [
        {
          "name": "stdout",
          "output_type": "stream",
          "text": [
            "name        object\n",
            "age          int64\n",
            "email_id    object\n",
            "dtype: object\n"
          ]
        },
        {
          "data": {
            "text/html": [
              "<div>\n",
              "<style scoped>\n",
              "    .dataframe tbody tr th:only-of-type {\n",
              "        vertical-align: middle;\n",
              "    }\n",
              "\n",
              "    .dataframe tbody tr th {\n",
              "        vertical-align: top;\n",
              "    }\n",
              "\n",
              "    .dataframe thead th {\n",
              "        text-align: right;\n",
              "    }\n",
              "</style>\n",
              "<table border=\"1\" class=\"dataframe\">\n",
              "  <thead>\n",
              "    <tr style=\"text-align: right;\">\n",
              "      <th></th>\n",
              "      <th>name</th>\n",
              "      <th>age</th>\n",
              "      <th>email_id</th>\n",
              "    </tr>\n",
              "  </thead>\n",
              "  <tbody>\n",
              "    <tr>\n",
              "      <th>0</th>\n",
              "      <td>John</td>\n",
              "      <td>20</td>\n",
              "      <td>john@companyemail.com</td>\n",
              "    </tr>\n",
              "    <tr>\n",
              "      <th>1</th>\n",
              "      <td>Joe</td>\n",
              "      <td>21</td>\n",
              "      <td>joe@companyemail.com</td>\n",
              "    </tr>\n",
              "  </tbody>\n",
              "</table>\n",
              "</div>"
            ],
            "text/plain": [
              "   name  age               email_id\n",
              "0  John   20  john@companyemail.com\n",
              "1   Joe   21   joe@companyemail.com"
            ]
          },
          "execution_count": 15,
          "metadata": {},
          "output_type": "execute_result"
        }
      ],
      "source": [
        "import pandas as pd\n",
        "# We will create an example table containing various data types\n",
        "mydict = {'name':['John','Joe'], 'age':[20,21],\n",
        "          'email_id':['john@companyemail.com','joe@companyemail.com']} # define a dictionary of values\n",
        "df = pd.DataFrame(mydict) # define the dataframe\n",
        "print(df.dtypes) # print data type\n",
        "df # print the values of the dataframe"
      ]
    },
    {
      "cell_type": "markdown",
      "metadata": {
        "id": "5NlVd87d9Y1a"
      },
      "source": [
        "Example of grouping in Pandas"
      ]
    },
    {
      "cell_type": "code",
      "execution_count": null,
      "metadata": {
        "colab": {
          "base_uri": "https://localhost:8080/"
        },
        "id": "gtdqx2z49Y1a",
        "outputId": "bd66d42c-cbd4-40bb-b565-195562b417cd"
      },
      "outputs": [
        {
          "output_type": "stream",
          "name": "stdout",
          "text": [
            "   name  age               email_id\n",
            "0  John   20  john@companyemail.com\n",
            "1   Joe   21   joe@companyemail.com\n",
            "2  Emma   20  emma@companyemail.com\n",
            "\n",
            "Group by age:\n",
            "age\n",
            "20    2\n",
            "21    1\n",
            "Name: name, dtype: int64\n"
          ]
        }
      ],
      "source": [
        "import pandas as pd  # Once imported, do not need to import a package again.\n",
        "\n",
        "mydict = {'name':['John','Joe','Emma'], 'age':[20,21,20],\n",
        "          'email_id':['john@companyemail.com','joe@companyemail.com','emma@companyemail.com']} # define a dictionary of values\n",
        "df = pd.DataFrame(mydict) # define the dataframe\n",
        "print(df)\n",
        "# group data by age and count the number of people in each age group\n",
        "df_group = df.groupby('age')['name'].count()\n",
        "print(\"\\nGroup by age:\")\n",
        "print(df_group) # print the result"
      ]
    },
    {
      "cell_type": "markdown",
      "metadata": {
        "id": "DJeHvB6l9Y1a"
      },
      "source": [
        "Example of sorting a dataframe"
      ]
    },
    {
      "cell_type": "code",
      "execution_count": null,
      "metadata": {
        "id": "8wn8czVL9Y1a",
        "outputId": "cf15d986-2d56-4ffa-e1cf-0ca99bbda9d8"
      },
      "outputs": [
        {
          "name": "stdout",
          "output_type": "stream",
          "text": [
            "   name  age               email_id\n",
            "0  John   20  john@companyemail.com\n",
            "2  Emma   20  emma@companyemail.com\n",
            "1   Joe   21   joe@companyemail.com\n"
          ]
        }
      ],
      "source": [
        "import pandas as pd  # Once imported, do not need to import a package again.\n",
        "\n",
        "mydict = {'name':['John','Joe','Emma'], 'age':[20,21,20],\n",
        "          'email_id':['john@companyemail.com','joe@companyemail.com','emma@companyemail.com']} # define a dictionary of values\n",
        "df = pd.DataFrame(mydict) # define the dataframe\n",
        "# Sort the dataframe by age\n",
        "df_group = df.sort_values('age') # equal age are listed in random order\n",
        "print(df_group) # print the result"
      ]
    },
    {
      "cell_type": "markdown",
      "metadata": {
        "id": "3GMGJ-sd9Y1a"
      },
      "source": [
        "Merge operation is used to merge two dataframes on a key."
      ]
    },
    {
      "cell_type": "markdown",
      "metadata": {
        "id": "td8JnB919Y1b"
      },
      "source": [
        "**Functions**\n",
        "\n",
        "* Functions define a set of commands to execute over\n",
        "* Functions reduce clutter in your code, useful to loop over and apply to multiple rows of a table\n",
        "* Helps reduce bugs by defining common code once"
      ]
    },
    {
      "cell_type": "code",
      "execution_count": null,
      "metadata": {
        "colab": {
          "base_uri": "https://localhost:8080/",
          "height": 178
        },
        "id": "VgZlqJWh9Y1b",
        "outputId": "c71ef94e-4cf7-4f1e-ef3b-b76139f36273"
      },
      "outputs": [
        {
          "output_type": "stream",
          "name": "stdout",
          "text": [
            "\n",
            " Function to calculate the bonus:\n"
          ]
        },
        {
          "output_type": "execute_result",
          "data": {
            "text/plain": [
              "   name  age               email_id  salary_per_year  dept_score    bonus  \\\n",
              "0  John   20  john@companyemail.com            56000        0.10  11200.0   \n",
              "1   Joe   21   joe@companyemail.com            54000        0.12  11880.0   \n",
              "2  Emma   20  emma@companyemail.com            55000        0.14  13200.0   \n",
              "\n",
              "   salary_with_bonus  \n",
              "0            67200.0  \n",
              "1            65880.0  \n",
              "2            68200.0  "
            ],
            "text/html": [
              "\n",
              "  <div id=\"df-f0b830ca-7acc-4c47-8bbd-f15938c04aa5\" class=\"colab-df-container\">\n",
              "    <div>\n",
              "<style scoped>\n",
              "    .dataframe tbody tr th:only-of-type {\n",
              "        vertical-align: middle;\n",
              "    }\n",
              "\n",
              "    .dataframe tbody tr th {\n",
              "        vertical-align: top;\n",
              "    }\n",
              "\n",
              "    .dataframe thead th {\n",
              "        text-align: right;\n",
              "    }\n",
              "</style>\n",
              "<table border=\"1\" class=\"dataframe\">\n",
              "  <thead>\n",
              "    <tr style=\"text-align: right;\">\n",
              "      <th></th>\n",
              "      <th>name</th>\n",
              "      <th>age</th>\n",
              "      <th>email_id</th>\n",
              "      <th>salary_per_year</th>\n",
              "      <th>dept_score</th>\n",
              "      <th>bonus</th>\n",
              "      <th>salary_with_bonus</th>\n",
              "    </tr>\n",
              "  </thead>\n",
              "  <tbody>\n",
              "    <tr>\n",
              "      <th>0</th>\n",
              "      <td>John</td>\n",
              "      <td>20</td>\n",
              "      <td>john@companyemail.com</td>\n",
              "      <td>56000</td>\n",
              "      <td>0.10</td>\n",
              "      <td>11200.0</td>\n",
              "      <td>67200.0</td>\n",
              "    </tr>\n",
              "    <tr>\n",
              "      <th>1</th>\n",
              "      <td>Joe</td>\n",
              "      <td>21</td>\n",
              "      <td>joe@companyemail.com</td>\n",
              "      <td>54000</td>\n",
              "      <td>0.12</td>\n",
              "      <td>11880.0</td>\n",
              "      <td>65880.0</td>\n",
              "    </tr>\n",
              "    <tr>\n",
              "      <th>2</th>\n",
              "      <td>Emma</td>\n",
              "      <td>20</td>\n",
              "      <td>emma@companyemail.com</td>\n",
              "      <td>55000</td>\n",
              "      <td>0.14</td>\n",
              "      <td>13200.0</td>\n",
              "      <td>68200.0</td>\n",
              "    </tr>\n",
              "  </tbody>\n",
              "</table>\n",
              "</div>\n",
              "    <div class=\"colab-df-buttons\">\n",
              "\n",
              "  <div class=\"colab-df-container\">\n",
              "    <button class=\"colab-df-convert\" onclick=\"convertToInteractive('df-f0b830ca-7acc-4c47-8bbd-f15938c04aa5')\"\n",
              "            title=\"Convert this dataframe to an interactive table.\"\n",
              "            style=\"display:none;\">\n",
              "\n",
              "  <svg xmlns=\"http://www.w3.org/2000/svg\" height=\"24px\" viewBox=\"0 -960 960 960\">\n",
              "    <path d=\"M120-120v-720h720v720H120Zm60-500h600v-160H180v160Zm220 220h160v-160H400v160Zm0 220h160v-160H400v160ZM180-400h160v-160H180v160Zm440 0h160v-160H620v160ZM180-180h160v-160H180v160Zm440 0h160v-160H620v160Z\"/>\n",
              "  </svg>\n",
              "    </button>\n",
              "\n",
              "  <style>\n",
              "    .colab-df-container {\n",
              "      display:flex;\n",
              "      gap: 12px;\n",
              "    }\n",
              "\n",
              "    .colab-df-convert {\n",
              "      background-color: #E8F0FE;\n",
              "      border: none;\n",
              "      border-radius: 50%;\n",
              "      cursor: pointer;\n",
              "      display: none;\n",
              "      fill: #1967D2;\n",
              "      height: 32px;\n",
              "      padding: 0 0 0 0;\n",
              "      width: 32px;\n",
              "    }\n",
              "\n",
              "    .colab-df-convert:hover {\n",
              "      background-color: #E2EBFA;\n",
              "      box-shadow: 0px 1px 2px rgba(60, 64, 67, 0.3), 0px 1px 3px 1px rgba(60, 64, 67, 0.15);\n",
              "      fill: #174EA6;\n",
              "    }\n",
              "\n",
              "    .colab-df-buttons div {\n",
              "      margin-bottom: 4px;\n",
              "    }\n",
              "\n",
              "    [theme=dark] .colab-df-convert {\n",
              "      background-color: #3B4455;\n",
              "      fill: #D2E3FC;\n",
              "    }\n",
              "\n",
              "    [theme=dark] .colab-df-convert:hover {\n",
              "      background-color: #434B5C;\n",
              "      box-shadow: 0px 1px 3px 1px rgba(0, 0, 0, 0.15);\n",
              "      filter: drop-shadow(0px 1px 2px rgba(0, 0, 0, 0.3));\n",
              "      fill: #FFFFFF;\n",
              "    }\n",
              "  </style>\n",
              "\n",
              "    <script>\n",
              "      const buttonEl =\n",
              "        document.querySelector('#df-f0b830ca-7acc-4c47-8bbd-f15938c04aa5 button.colab-df-convert');\n",
              "      buttonEl.style.display =\n",
              "        google.colab.kernel.accessAllowed ? 'block' : 'none';\n",
              "\n",
              "      async function convertToInteractive(key) {\n",
              "        const element = document.querySelector('#df-f0b830ca-7acc-4c47-8bbd-f15938c04aa5');\n",
              "        const dataTable =\n",
              "          await google.colab.kernel.invokeFunction('convertToInteractive',\n",
              "                                                    [key], {});\n",
              "        if (!dataTable) return;\n",
              "\n",
              "        const docLinkHtml = 'Like what you see? Visit the ' +\n",
              "          '<a target=\"_blank\" href=https://colab.research.google.com/notebooks/data_table.ipynb>data table notebook</a>'\n",
              "          + ' to learn more about interactive tables.';\n",
              "        element.innerHTML = '';\n",
              "        dataTable['output_type'] = 'display_data';\n",
              "        await google.colab.output.renderOutput(dataTable, element);\n",
              "        const docLink = document.createElement('div');\n",
              "        docLink.innerHTML = docLinkHtml;\n",
              "        element.appendChild(docLink);\n",
              "      }\n",
              "    </script>\n",
              "  </div>\n",
              "\n",
              "\n",
              "<div id=\"df-487cd65e-e507-4555-897e-d589cc199b17\">\n",
              "  <button class=\"colab-df-quickchart\" onclick=\"quickchart('df-487cd65e-e507-4555-897e-d589cc199b17')\"\n",
              "            title=\"Suggest charts\"\n",
              "            style=\"display:none;\">\n",
              "\n",
              "<svg xmlns=\"http://www.w3.org/2000/svg\" height=\"24px\"viewBox=\"0 0 24 24\"\n",
              "     width=\"24px\">\n",
              "    <g>\n",
              "        <path d=\"M19 3H5c-1.1 0-2 .9-2 2v14c0 1.1.9 2 2 2h14c1.1 0 2-.9 2-2V5c0-1.1-.9-2-2-2zM9 17H7v-7h2v7zm4 0h-2V7h2v10zm4 0h-2v-4h2v4z\"/>\n",
              "    </g>\n",
              "</svg>\n",
              "  </button>\n",
              "\n",
              "<style>\n",
              "  .colab-df-quickchart {\n",
              "      --bg-color: #E8F0FE;\n",
              "      --fill-color: #1967D2;\n",
              "      --hover-bg-color: #E2EBFA;\n",
              "      --hover-fill-color: #174EA6;\n",
              "      --disabled-fill-color: #AAA;\n",
              "      --disabled-bg-color: #DDD;\n",
              "  }\n",
              "\n",
              "  [theme=dark] .colab-df-quickchart {\n",
              "      --bg-color: #3B4455;\n",
              "      --fill-color: #D2E3FC;\n",
              "      --hover-bg-color: #434B5C;\n",
              "      --hover-fill-color: #FFFFFF;\n",
              "      --disabled-bg-color: #3B4455;\n",
              "      --disabled-fill-color: #666;\n",
              "  }\n",
              "\n",
              "  .colab-df-quickchart {\n",
              "    background-color: var(--bg-color);\n",
              "    border: none;\n",
              "    border-radius: 50%;\n",
              "    cursor: pointer;\n",
              "    display: none;\n",
              "    fill: var(--fill-color);\n",
              "    height: 32px;\n",
              "    padding: 0;\n",
              "    width: 32px;\n",
              "  }\n",
              "\n",
              "  .colab-df-quickchart:hover {\n",
              "    background-color: var(--hover-bg-color);\n",
              "    box-shadow: 0 1px 2px rgba(60, 64, 67, 0.3), 0 1px 3px 1px rgba(60, 64, 67, 0.15);\n",
              "    fill: var(--button-hover-fill-color);\n",
              "  }\n",
              "\n",
              "  .colab-df-quickchart-complete:disabled,\n",
              "  .colab-df-quickchart-complete:disabled:hover {\n",
              "    background-color: var(--disabled-bg-color);\n",
              "    fill: var(--disabled-fill-color);\n",
              "    box-shadow: none;\n",
              "  }\n",
              "\n",
              "  .colab-df-spinner {\n",
              "    border: 2px solid var(--fill-color);\n",
              "    border-color: transparent;\n",
              "    border-bottom-color: var(--fill-color);\n",
              "    animation:\n",
              "      spin 1s steps(1) infinite;\n",
              "  }\n",
              "\n",
              "  @keyframes spin {\n",
              "    0% {\n",
              "      border-color: transparent;\n",
              "      border-bottom-color: var(--fill-color);\n",
              "      border-left-color: var(--fill-color);\n",
              "    }\n",
              "    20% {\n",
              "      border-color: transparent;\n",
              "      border-left-color: var(--fill-color);\n",
              "      border-top-color: var(--fill-color);\n",
              "    }\n",
              "    30% {\n",
              "      border-color: transparent;\n",
              "      border-left-color: var(--fill-color);\n",
              "      border-top-color: var(--fill-color);\n",
              "      border-right-color: var(--fill-color);\n",
              "    }\n",
              "    40% {\n",
              "      border-color: transparent;\n",
              "      border-right-color: var(--fill-color);\n",
              "      border-top-color: var(--fill-color);\n",
              "    }\n",
              "    60% {\n",
              "      border-color: transparent;\n",
              "      border-right-color: var(--fill-color);\n",
              "    }\n",
              "    80% {\n",
              "      border-color: transparent;\n",
              "      border-right-color: var(--fill-color);\n",
              "      border-bottom-color: var(--fill-color);\n",
              "    }\n",
              "    90% {\n",
              "      border-color: transparent;\n",
              "      border-bottom-color: var(--fill-color);\n",
              "    }\n",
              "  }\n",
              "</style>\n",
              "\n",
              "  <script>\n",
              "    async function quickchart(key) {\n",
              "      const quickchartButtonEl =\n",
              "        document.querySelector('#' + key + ' button');\n",
              "      quickchartButtonEl.disabled = true;  // To prevent multiple clicks.\n",
              "      quickchartButtonEl.classList.add('colab-df-spinner');\n",
              "      try {\n",
              "        const charts = await google.colab.kernel.invokeFunction(\n",
              "            'suggestCharts', [key], {});\n",
              "      } catch (error) {\n",
              "        console.error('Error during call to suggestCharts:', error);\n",
              "      }\n",
              "      quickchartButtonEl.classList.remove('colab-df-spinner');\n",
              "      quickchartButtonEl.classList.add('colab-df-quickchart-complete');\n",
              "    }\n",
              "    (() => {\n",
              "      let quickchartButtonEl =\n",
              "        document.querySelector('#df-487cd65e-e507-4555-897e-d589cc199b17 button');\n",
              "      quickchartButtonEl.style.display =\n",
              "        google.colab.kernel.accessAllowed ? 'block' : 'none';\n",
              "    })();\n",
              "  </script>\n",
              "</div>\n",
              "\n",
              "  <div id=\"id_1f92a606-da62-4749-847a-86b5152bcfd0\">\n",
              "    <style>\n",
              "      .colab-df-generate {\n",
              "        background-color: #E8F0FE;\n",
              "        border: none;\n",
              "        border-radius: 50%;\n",
              "        cursor: pointer;\n",
              "        display: none;\n",
              "        fill: #1967D2;\n",
              "        height: 32px;\n",
              "        padding: 0 0 0 0;\n",
              "        width: 32px;\n",
              "      }\n",
              "\n",
              "      .colab-df-generate:hover {\n",
              "        background-color: #E2EBFA;\n",
              "        box-shadow: 0px 1px 2px rgba(60, 64, 67, 0.3), 0px 1px 3px 1px rgba(60, 64, 67, 0.15);\n",
              "        fill: #174EA6;\n",
              "      }\n",
              "\n",
              "      [theme=dark] .colab-df-generate {\n",
              "        background-color: #3B4455;\n",
              "        fill: #D2E3FC;\n",
              "      }\n",
              "\n",
              "      [theme=dark] .colab-df-generate:hover {\n",
              "        background-color: #434B5C;\n",
              "        box-shadow: 0px 1px 3px 1px rgba(0, 0, 0, 0.15);\n",
              "        filter: drop-shadow(0px 1px 2px rgba(0, 0, 0, 0.3));\n",
              "        fill: #FFFFFF;\n",
              "      }\n",
              "    </style>\n",
              "    <button class=\"colab-df-generate\" onclick=\"generateWithVariable('df')\"\n",
              "            title=\"Generate code using this dataframe.\"\n",
              "            style=\"display:none;\">\n",
              "\n",
              "  <svg xmlns=\"http://www.w3.org/2000/svg\" height=\"24px\"viewBox=\"0 0 24 24\"\n",
              "       width=\"24px\">\n",
              "    <path d=\"M7,19H8.4L18.45,9,17,7.55,7,17.6ZM5,21V16.75L18.45,3.32a2,2,0,0,1,2.83,0l1.4,1.43a1.91,1.91,0,0,1,.58,1.4,1.91,1.91,0,0,1-.58,1.4L9.25,21ZM18.45,9,17,7.55Zm-12,3A5.31,5.31,0,0,0,4.9,8.1,5.31,5.31,0,0,0,1,6.5,5.31,5.31,0,0,0,4.9,4.9,5.31,5.31,0,0,0,6.5,1,5.31,5.31,0,0,0,8.1,4.9,5.31,5.31,0,0,0,12,6.5,5.46,5.46,0,0,0,6.5,12Z\"/>\n",
              "  </svg>\n",
              "    </button>\n",
              "    <script>\n",
              "      (() => {\n",
              "      const buttonEl =\n",
              "        document.querySelector('#id_1f92a606-da62-4749-847a-86b5152bcfd0 button.colab-df-generate');\n",
              "      buttonEl.style.display =\n",
              "        google.colab.kernel.accessAllowed ? 'block' : 'none';\n",
              "\n",
              "      buttonEl.onclick = () => {\n",
              "        google.colab.notebook.generateWithVariable('df');\n",
              "      }\n",
              "      })();\n",
              "    </script>\n",
              "  </div>\n",
              "\n",
              "    </div>\n",
              "  </div>\n"
            ],
            "application/vnd.google.colaboratory.intrinsic+json": {
              "type": "dataframe",
              "variable_name": "df",
              "summary": "{\n  \"name\": \"df\",\n  \"rows\": 3,\n  \"fields\": [\n    {\n      \"column\": \"name\",\n      \"properties\": {\n        \"dtype\": \"string\",\n        \"num_unique_values\": 3,\n        \"samples\": [\n          \"John\",\n          \"Joe\",\n          \"Emma\"\n        ],\n        \"semantic_type\": \"\",\n        \"description\": \"\"\n      }\n    },\n    {\n      \"column\": \"age\",\n      \"properties\": {\n        \"dtype\": \"number\",\n        \"std\": 0,\n        \"min\": 20,\n        \"max\": 21,\n        \"num_unique_values\": 2,\n        \"samples\": [\n          21,\n          20\n        ],\n        \"semantic_type\": \"\",\n        \"description\": \"\"\n      }\n    },\n    {\n      \"column\": \"email_id\",\n      \"properties\": {\n        \"dtype\": \"string\",\n        \"num_unique_values\": 3,\n        \"samples\": [\n          \"john@companyemail.com\",\n          \"joe@companyemail.com\"\n        ],\n        \"semantic_type\": \"\",\n        \"description\": \"\"\n      }\n    },\n    {\n      \"column\": \"salary_per_year\",\n      \"properties\": {\n        \"dtype\": \"number\",\n        \"std\": 1000,\n        \"min\": 54000,\n        \"max\": 56000,\n        \"num_unique_values\": 3,\n        \"samples\": [\n          56000,\n          54000\n        ],\n        \"semantic_type\": \"\",\n        \"description\": \"\"\n      }\n    },\n    {\n      \"column\": \"dept_score\",\n      \"properties\": {\n        \"dtype\": \"number\",\n        \"std\": 0.020000000000000004,\n        \"min\": 0.1,\n        \"max\": 0.14,\n        \"num_unique_values\": 3,\n        \"samples\": [\n          0.1,\n          0.12\n        ],\n        \"semantic_type\": \"\",\n        \"description\": \"\"\n      }\n    },\n    {\n      \"column\": \"bonus\",\n      \"properties\": {\n        \"dtype\": \"number\",\n        \"std\": 1016.9234648356451,\n        \"min\": 11200.0,\n        \"max\": 13200.0,\n        \"num_unique_values\": 3,\n        \"samples\": [\n          11200.0,\n          11880.0\n        ],\n        \"semantic_type\": \"\",\n        \"description\": \"\"\n      }\n    },\n    {\n      \"column\": \"salary_with_bonus\",\n      \"properties\": {\n        \"dtype\": \"number\",\n        \"std\": 1163.6723479284594,\n        \"min\": 65880.0,\n        \"max\": 68200.0,\n        \"num_unique_values\": 3,\n        \"samples\": [\n          67200.0,\n          65880.0\n        ],\n        \"semantic_type\": \"\",\n        \"description\": \"\"\n      }\n    }\n  ]\n}"
            }
          },
          "metadata": {},
          "execution_count": 4
        }
      ],
      "source": [
        "import pandas as pd\n",
        "# define an example dataframe\n",
        "mydict = {'name':['John','Joe','Emma'], 'age':[20,21,20],\n",
        "          'email_id':['john@companyemail.com','joe@companyemail.com','emma@companyemail.com'],\\\n",
        "          'salary_per_year':[56000,54000,55000],\n",
        "        'dept_score':[0.1,0.12,0.14]  } # define a dictionary of values\n",
        "df = pd.DataFrame(mydict) # define the dataframe\n",
        "\n",
        "# Create a function to calculate bonus package\n",
        "def calculate_bonus(df,company_score):\n",
        "    \"\"\"Function takes company score\n",
        "        and department scores to calculate the bonus as a percent of the salary.\n",
        "        Args:\n",
        "        df: Dataframe that contains salary information\n",
        "        company_score: score on how well the company did on achieving its target goals for the year\n",
        "        Returns:\n",
        "        Dataframe with bonus calculated for each employee and their salary after bonus\n",
        "    \"\"\"\n",
        "    df['bonus'] = df[\"salary_per_year\"]*df[\"dept_score\"] # multiply by department score\n",
        "    df['bonus'] = df['bonus']+df[\"salary_per_year\"]*company_score # add company score\n",
        "    df['salary_with_bonus'] = df['bonus'] + df['salary_per_year'] # calculate salary with bonus\n",
        "    return df\n",
        "company_score = 0.1 # input the score for the company\n",
        "calculate_bonus(df=df,company_score=company_score)\n"
      ]
    },
    {
      "cell_type": "markdown",
      "metadata": {
        "id": "xOCwDenH9Y1b"
      },
      "source": [
        "The same company score is applied to all data. And calculation is written inside a function. The result is returned."
      ]
    },
    {
      "cell_type": "markdown",
      "metadata": {
        "id": "yMkzGGrv9Y1b"
      },
      "source": [
        "**Summary**"
      ]
    },
    {
      "cell_type": "markdown",
      "metadata": {
        "id": "QLLGD_H59Y1b"
      },
      "source": [
        "Terminology:\n",
        "* Jupyter notebook or simply notebook: An interactive interface to run Python code. Google Colab notebook is one such interactive interface.\n",
        "* Python language: Is an interpretive language. No need to compile. A popular programming language.\n",
        "    * We talked about some of the common commands\n",
        "* Packages: Packages have custom functionality for a given task. Example is Pandas package.\n"
      ]
    },
    {
      "cell_type": "markdown",
      "metadata": {
        "id": "B69RjBlI9Y1b"
      },
      "source": [
        "Python under the hood:\n",
        "* Variables: Store values in memory.\n",
        "* Data types: Strings, integers, lists, arrays etc.\n",
        "* Loops: Used to run repeated code over a list or array or table.\n",
        "* Conditional statements: Used to select data based on a condition.\n",
        "* Tables: Rows and columns are manipulated to determine the answer.\n",
        "    * Merge, sort, group\n",
        "    * Pandas package is most commonly used to manipulate tables.\n",
        "* Functions:\n",
        "    * Reduce cluster\n",
        "    * Re-usable code is placed in a function (reduces bugs, keeps the code modular)\n"
      ]
    }
  ],
  "metadata": {
    "kernelspec": {
      "display_name": "Python 3",
      "language": "python",
      "name": "python3"
    },
    "language_info": {
      "codemirror_mode": {
        "name": "ipython",
        "version": 3
      },
      "file_extension": ".py",
      "mimetype": "text/x-python",
      "name": "python",
      "nbconvert_exporter": "python",
      "pygments_lexer": "ipython3",
      "version": "3.10.8"
    },
    "colab": {
      "provenance": []
    }
  },
  "nbformat": 4,
  "nbformat_minor": 0
}