{
 "cells": [
  {
   "cell_type": "markdown",
   "metadata": {},
   "source": [
    "# Example to calculate countries with highest population growth between years 2020 and 2021"
   ]
  },
  {
   "cell_type": "markdown",
   "metadata": {},
   "source": [
    "Preparation to run this analysis\n",
    "* Upload data to Google Drive\n",
    "* Download this notebook from Github classroom to your computer and upload it to Colab\n",
    "* Select a compute resource\n",
    "YOU ARE NOW ALL SET TO RUN THE ANALYSIS!\n",
    "\n"
   ]
  },
  {
   "cell_type": "markdown",
   "metadata": {},
   "source": [
    "#### Problem statement\n",
    "\n",
    "I am a United Nations policy maker. Now that I have basic statistics about the world population for 2021, I want to know which countries had the highest population growth for countries between 2020 and 2021. This information will help me with providing recommendations for resource allocation. \n",
    "\n",
    "Notes:\n",
    "When the objectives of the task are clear, the analyst can do an efficient job of extracting the relevant data. \n",
    "\n",
    "\n"
   ]
  },
  {
   "cell_type": "markdown",
   "metadata": {},
   "source": [
    "**Guidance:**\n",
    "\n",
    "In this workshop, the analysis that we provide below is not exhaustive. Please use this as a guide to learn the concepts of data analysis that were taught in the course (problem statement, data collection, data cleaning and analysis). Here we have used data from the latest available date. In a real scenario, the analyst would want to look at more recent data. In addition, the analyst may choose a variation of the method shown that would answer the question."
   ]
  },
  {
   "cell_type": "markdown",
   "metadata": {},
   "source": [
    "Let us assume that the year is 2021"
   ]
  },
  {
   "cell_type": "markdown",
   "metadata": {},
   "source": [
    "*Instructions*\n",
    "* We will be using Python to run the code\n",
    "* **We want to focus on the concepts of analyzing data**\n",
    "    * If you have prior experience in Python, please feel free to try additional questions - as we walk through the course\n",
    "    * If you are new to Python, you will not be asked to write Python code. The code is provided. A novice usually finds it difficult to analyze the data as well as follow the code. We re-iterate that you focus on the concepts (and the outcome of the analysis) rather than the code. At your liesure, we encourage you to implement the analysis in your tool of choice (such as Excel or other.)\n",
    "* For those interested to pursue a career path in data analysis, the code we present below is higher than an introductory level Python course. We present popular tools and code patterns in the hope that they will help you accelerate your learning journey."
   ]
  },
  {
   "cell_type": "markdown",
   "metadata": {},
   "source": [
    "*About this course*\n",
    "* The purpose of this data analysis is to understand basic trends in World Population. We want to explore the data that will help answer the questions - What, Where or When. In this course, we will focus on introductory data analysis.\n",
    "* Advanced data analysis (not covered here) would ask questions on the \"Why\" and also help come up with forecast for the future. \n",
    "* Any data analysis always starts with the basic questions. "
   ]
  },
  {
   "cell_type": "markdown",
   "metadata": {},
   "source": [
    "Data sources:\n",
    "United Nations, World Population Prospects (2022)\n"
   ]
  },
  {
   "cell_type": "markdown",
   "metadata": {},
   "source": [
    "#### Select data"
   ]
  },
  {
   "cell_type": "markdown",
   "metadata": {},
   "source": [
    "import packages"
   ]
  },
  {
   "cell_type": "code",
   "execution_count": 4,
   "metadata": {},
   "outputs": [],
   "source": [
    "import pandas as pd\n",
    "import plotly.express as px \n",
    "import plotly.offline as py\n",
    "import plotly.graph_objects as go\n",
    "import numpy as np\n"
   ]
  },
  {
   "cell_type": "code",
   "execution_count": 5,
   "metadata": {},
   "outputs": [],
   "source": [
    "# Import data into Colab by clicking on the \"Files\" icon and then clicking the \"Upload\" button. Select the CSV from your computer.\n",
    "\n",
    "# pd.read_csv(\"\"/content/drive/MyDrive/population-and-demography.csv)"
   ]
  },
  {
   "cell_type": "code",
   "execution_count": null,
   "metadata": {},
   "outputs": [],
   "source": [
    "# population data contains population for countries,  several groups of countries and the world\n",
    "pg_data = pd.read_csv(\"/mnt/c/Users/pamaz/Downloads/population-and-demography.csv\")\n",
    "pg_data.head()"
   ]
  },
  {
   "cell_type": "markdown",
   "metadata": {},
   "source": [
    "*In the real world, the raw data are ingested into the raw layer or the \"Bronze layer\"*"
   ]
  },
  {
   "cell_type": "markdown",
   "metadata": {},
   "source": [
    "#### Clean the data"
   ]
  },
  {
   "cell_type": "markdown",
   "metadata": {},
   "source": [
    "##### Transform the datasets to meet our needs\n",
    "* Normally, the data are merged with other data or are grouped to meet the analysis needs. \n",
    "* In this exercise, we only need to population table. As a result, we will not use any merge operations.\n",
    "* We will do additional cleaning. "
   ]
  },
  {
   "cell_type": "markdown",
   "metadata": {},
   "source": [
    "\n",
    "\n",
    "Questions that we will answer in this exercise:\n",
    "* What are the minimum, maximum and mean population in 2021?\n",
    "    * We will re-calculate using only the population for countries.\n",
    "* What is the population growth of each country between 2020 and 2021?\n",
    "* Find the countries with the highest population growth.\n",
    "\n",
    "\n"
   ]
  },
  {
   "cell_type": "markdown",
   "metadata": {},
   "source": [
    "*In the real world, the transformed (and cleaned) data are stored into the intermediate layer or the \"Silver layer\". This data is now ready for analytics use.*\n",
    "*   Additional data cleaning, formatting are done to ensure the data types of each column are making sense. \n",
    "    * This can include checks if country names are consistent.\n",
    "    * Also, include data aggregation.e.g., represent minute data as hourly. For this data, we do not need to do aggregation."
   ]
  },
  {
   "cell_type": "code",
   "execution_count": null,
   "metadata": {},
   "outputs": [],
   "source": [
    "# We will use the result from the previous exercise to clean our data.\n",
    "# We will remove entities that do not correspond to a country.\n",
    "\n",
    "remove_words = [ 'regions',\n",
    " 'countries',\n",
    " 'World','UN']\n",
    "# remove regions\n",
    "pg_data_nona_clean = pg_data.copy()\n",
    "def remove_non_countries(remove_words,pg_data_nona_clean):\n",
    "    for word in remove_words:\n",
    "\n",
    "        mask = ~(pg_data_nona_clean[\"Country name\"].str.contains(word))\n",
    "        pg_data_nona_clean = pg_data_nona_clean\\\n",
    "            [mask]\n",
    "     \n",
    "        # num of unique countries in the data\n",
    "        num_of_countries = len(pg_data_nona_clean[\"Country name\"].unique())\n",
    "        print(\"Number of countries in the data \\\n",
    "            are {}\".format(num_of_countries )\n",
    "        )\n",
    "        print(word)\n",
    "    return pg_data_nona_clean\n",
    "pg_data_nona_clean = remove_non_countries(remove_words,pg_data_nona_clean)\n"
   ]
  },
  {
   "cell_type": "markdown",
   "metadata": {},
   "source": [
    "#### Analyze the data"
   ]
  },
  {
   "cell_type": "markdown",
   "metadata": {},
   "source": [
    "##### Discover patterns"
   ]
  },
  {
   "cell_type": "code",
   "execution_count": null,
   "metadata": {},
   "outputs": [],
   "source": [
    "yearmax = 2021 #Define year of analysis and previous year\n",
    "previous_year = yearmax - 1 # we will keep the previous year because we want to measure the trend\n",
    "print(f\"The most recent year is {yearmax}\")"
   ]
  },
  {
   "cell_type": "code",
   "execution_count": null,
   "metadata": {},
   "outputs": [],
   "source": [
    "# Number of unique countries in 2020, 2021\n",
    "num_of_countries_current = len(pg_data_nona_clean[pg_data_nona_clean[\"Year\"]==yearmax][\"Country name\"].unique())\n",
    "print(\"There are {} countries present in the data\".format(num_of_countries_current))\n",
    "\n",
    "num_of_countries_p = len(pg_data_nona_clean[pg_data_nona_clean[\"Year\"]==previous_year][\"Country name\"].unique())\n",
    "print(\"There are {} countries present in the data\".format(num_of_countries_p))"
   ]
  },
  {
   "cell_type": "markdown",
   "metadata": {},
   "source": [
    "Notes on the above result:\n",
    "\n",
    "* Like before, we have more than expected entities after cleaning, where some of them may not be independent countries. \n",
    "* The maximum population was high due to the entity \"World\"\n",
    "    * Removing it, resulted in realistic answer for population.\n",
    "* We now have 237 countries. \n",
    "    * Most of the countries are recognized by the international community and about 42 of them are not. Most of the non-recognized entities have low population.\n",
    "  \n",
    "\n"
   ]
  },
  {
   "cell_type": "markdown",
   "metadata": {},
   "source": [
    "Please note the coding pattern\n",
    "* We will define a condition that we need (see variable `condition`)\n",
    "* Then we apply that condition on the dataframe"
   ]
  },
  {
   "cell_type": "markdown",
   "metadata": {},
   "source": [
    "*   *Let us look at the data for years 2020 and 2021"
   ]
  },
  {
   "cell_type": "code",
   "execution_count": null,
   "metadata": {},
   "outputs": [],
   "source": [
    "condition = pg_data_nona_clean[\"Year\"]==2021\n",
    "df = pg_data_nona_clean[condition].sort_values(\"Population\").head(5)\n",
    "df"
   ]
  },
  {
   "cell_type": "code",
   "execution_count": null,
   "metadata": {},
   "outputs": [],
   "source": [
    "# Statistics on population\n",
    "# mean, minimum, maximum in the year 2021\n",
    "condition = pg_data_nona_clean[\"Year\"]==2021\n",
    "df = pg_data_nona_clean[condition]\n",
    "\n",
    "condition = (df[\"Population\"]==df[\"Population\"].min())\n",
    "min_country,min_population = df[condition][[\"Country name\",\"Population\"]].values[0]\n",
    "\n",
    "condition = (df[\"Population\"]==df[\"Population\"].max())\n",
    "max_country,max_population = df[condition][[\"Country name\",\"Population\"]].values[0]\n",
    "\n",
    "mean_population = df[\"Population\"].mean()\n",
    "print(f\"The minimum world population is {min_population} for country {min_country}\")\n",
    "print(f\"The maximum world population is {max_population} for country {max_country}\")\n",
    "print(f\"The mean world population is {mean_population}.\")\n"
   ]
  },
  {
   "cell_type": "markdown",
   "metadata": {},
   "source": [
    "\n",
    "We obtained the same answers that we obtained in exercise 1. No surprises here!"
   ]
  },
  {
   "cell_type": "markdown",
   "metadata": {},
   "source": [
    "*Which country had the highest population growth in 2021?*\n",
    "*   Here we need to compare 2021's population with that of its previous year. Calculate the increase and report the highest percent and corresponding country.\n"
   ]
  },
  {
   "cell_type": "code",
   "execution_count": null,
   "metadata": {},
   "outputs": [],
   "source": [
    "# Calculate the country with the highest population growth\n",
    "df = pg_data_nona_clean[(pg_data_nona_clean[\"Year\"]==yearmax) | (pg_data_nona_clean[\"Year\"]==previous_year)]\n",
    "# for each country calculate change in population from 2020 to 2021\n",
    "## formula: (2021 population minus 2020 population) \n",
    "# declare a function to calculate the formula\n",
    "def growth(data,yearmax,previous_year):\n",
    "    p_2020 = data[data[\"Year\"]==previous_year][\"Population\"].values[0]# get 2020 population\n",
    "    p_2021 = data[data[\"Year\"]==yearmax][\"Population\"].values[0]# get 2021 population\n",
    "    change = p_2021-p_2020\n",
    "    return change\n",
    "df_sel = df.groupby(\"Country name\")[[\"Year\",\"Population\"]]\\\n",
    "    .apply(lambda x: growth(x,yearmax,previous_year)).reset_index()\n",
    "df_sel.rename(columns={0:\"growth\"},inplace=True)\n",
    "# get country with the highest growth\n",
    "country_name = df_sel[df_sel['growth']==df_sel[\"growth\"].max()]\\\n",
    "                    [\"Country name\"].values[0]\n",
    "# get its population growth\n",
    "growth_val = df_sel[df_sel['growth']==df_sel[\"growth\"].max()]\\\n",
    "                    [\"growth\"].values[0]\n",
    "\n",
    "print(\"{} had the highest population growth in {} at {} people.\".format(country_name,yearmax,growth_val))\n",
    "\n"
   ]
  },
  {
   "cell_type": "markdown",
   "metadata": {},
   "source": [
    "We will look at the 10 countries that had the most growth"
   ]
  },
  {
   "cell_type": "code",
   "execution_count": null,
   "metadata": {},
   "outputs": [],
   "source": [
    "# Get countries with the 10 highest population growth\n",
    "df_sel.sort_values(\"growth\",ascending=False).head(10)\n"
   ]
  },
  {
   "cell_type": "code",
   "execution_count": null,
   "metadata": {},
   "outputs": [],
   "source": [
    "# Calculate the world's total growth in 2021\n",
    "total_growth = df_sel[\"growth\"].sum()\n",
    "print(f\"The world's population grew by {total_growth} in {yearmax}\")"
   ]
  },
  {
   "cell_type": "markdown",
   "metadata": {},
   "source": [
    "*In the real world, the data fit for analysis is stored in the Gold layer*\n",
    "\n",
    "In this case, the data contained in the variable `df_sel` in the above cell is stored."
   ]
  },
  {
   "cell_type": "markdown",
   "metadata": {},
   "source": [
    "*Further, in the real world, the analyzed data are typically sent to a dashboard for consumption. The results are shown and discussed with the person that initiated the request.*\n",
    "\n"
   ]
  },
  {
   "cell_type": "markdown",
   "metadata": {},
   "source": [
    "Let us plot the results because pictures are easier to understand"
   ]
  },
  {
   "cell_type": "code",
   "execution_count": null,
   "metadata": {},
   "outputs": [],
   "source": [
    "# Plot 20 countries with the most population growth and their corresponding growth\n",
    "df1 = df_sel.sort_values(by = [\"growth\"],ascending = False).reset_index().head(20)\n",
    "\n",
    "fig = px.bar(df1,\n",
    "             x = 'Country name',\n",
    "             y = \"growth\",\n",
    "             color = \"growth\",\n",
    "             color_continuous_scale = 'balance',\n",
    "             labels = {\"growth\":\"Growth\"}\n",
    "            )\n",
    "fig.update_layout(title = 'Top 20 countries with the highest growth in 2021',\n",
    "                  title_x = 0.5,\n",
    "                  title_font = dict(size = 16, color = 'DarkBlue'),\n",
    "                  xaxis = dict(title = 'Country'),\n",
    "                  yaxis = dict(title = 'Growth ')\n",
    "                 \n",
    "                 )\n",
    "fig.show()"
   ]
  },
  {
   "cell_type": "code",
   "execution_count": null,
   "metadata": {},
   "outputs": [],
   "source": [
    "# Show the 20 countries with the most population growth on a map\n",
    "df = df_sel.copy()\n",
    "\n",
    "df = df[[\"growth\",\"Country name\"]].\\\n",
    "    sort_values(\"growth\",ascending=False).head(10)\n",
    "\n",
    "fig = px.choropleth(df,\n",
    "                    locations = 'Country name',\n",
    "                    locationmode = 'country names',\n",
    "                    color = 'growth',\n",
    "                    hover_name = 'Country name',\n",
    "                    color_continuous_scale = 'twilight',\n",
    "                    labels = {\"growth\":\"growth\"}\n",
    "                   \n",
    "                   )\n",
    "\n",
    "fig.update_layout(title = '2021',\n",
    "                  title_font = dict(size = 30, color = 'DarkSlateBlue'),\n",
    "                  title_x = 0.5,\n",
    "                  geo = dict(showframe = False,\n",
    "                             showcoastlines = False,\n",
    "                             projection_type = 'equirectangular'))\n",
    "\n",
    "fig.show()"
   ]
  },
  {
   "cell_type": "markdown",
   "metadata": {},
   "source": [
    "##### Interpret results\n",
    "* Of the 237 countries analyzed, the countries with the most population growth in 2021 were ... (students are encouraged to provide the answer)\n",
    "* The population growth ranged from ... \n",
    "* About 42 of the 237 countries analyzed were islands or may not be independent/recognized. These countries had low population and therefore, low growth compared to the highest growth ones. \n",
    "* India's population grew the most in 2021 by about 11 million and Nigeria's population growth was the second highest at about 5 million people. India's population growth was more than twice the growth seen by Nigeria. \n",
    "* The world's population grew by 68 million in 2021.\n",
    "* The 20 highest population growth occurred in Asia or Africa. \n",
    "\n",
    "\n"
   ]
  },
  {
   "cell_type": "markdown",
   "metadata": {},
   "source": [
    "##### Report (use the previous exercise as a guide to write your report.)\n",
    "* Talk about the problem statement\n",
    "* Discuss the data selected and its source\n",
    "* Discuss the steps used to clean the data and why\n",
    "* Discussion the analysis steps\n",
    "    * What patterns did you discover?\n",
    "    * Share the interpretation of your results\n",
    "    * <Add any figures>\n",
    "* Have a meeting with the requestor and discuss your findings. Provide the final data and the report to them. "
   ]
  },
  {
   "cell_type": "markdown",
   "metadata": {},
   "source": [
    "#### Summary of this exercise"
   ]
  },
  {
   "cell_type": "markdown",
   "metadata": {},
   "source": [
    "*Analytics Workflow*\n",
    "* We saw how to ingest raw data, transform (ET of the ETL). \n",
    "* We then further cleaned the data and explored it to help answer the questions. \n",
    "* We discovered the countries with the most growth in 2021. \n",
    "* We also calculated the world's population growth in 2021. \n"
   ]
  },
  {
   "cell_type": "markdown",
   "metadata": {},
   "source": [
    "#### Next Steps\n"
   ]
  },
  {
   "cell_type": "markdown",
   "metadata": {},
   "source": [
    "*Write a report (1 or 2 pages) in Microsoft Word on what you analyzed today. Please email your reports in pdf format to aifeatures2000@gmail.com by May 8, 2024. This is an optional exercise. \n",
    "As you write your report, please draw on the concepts you learnt in the class.*"
   ]
  }
 ],
 "metadata": {
  "kernelspec": {
   "display_name": ".venv",
   "language": "python",
   "name": "python3"
  },
  "language_info": {
   "codemirror_mode": {
    "name": "ipython",
    "version": 3
   },
   "file_extension": ".py",
   "mimetype": "text/x-python",
   "name": "python",
   "nbconvert_exporter": "python",
   "pygments_lexer": "ipython3",
   "version": "3.10.8"
  }
 },
 "nbformat": 4,
 "nbformat_minor": 2
}
